{
  "cells": [
    {
      "cell_type": "markdown",
      "metadata": {},
      "source": [
        "# Optionals in Java\n"
      ]
    },
    {
      "cell_type": "code",
      "execution_count": null,
      "metadata": {},
      "outputs": [],
      "source": [
        "import java.util.Optional;\n",
        "Optional<String> name = Optional.of(\"Alice\");\n",
        "name.ifPresent(System.out::println);"
      ]
    }
  ],
  "metadata": {
    "kernelspec": {
      "display_name": "Java",
      "language": "java",
      "name": "java"
    },
    "language_info": {
      "name": "java",
      "version": "24"
    }
  },
  "nbformat": 4,
  "nbformat_minor": 2
}