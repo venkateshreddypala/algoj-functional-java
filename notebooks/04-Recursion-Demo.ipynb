{
  "cells": [
    {
      "cell_type": "markdown",
      "metadata": {},
      "source": [
        "# Recursion in Java\n"
      ]
    },
    {
      "cell_type": "code",
      "execution_count": null,
      "metadata": {},
      "outputs": [],
      "source": [
        "int fact(int n) {\n",
        "  return (n <= 1) ? 1 : n * fact(n - 1);\n",
        "}\n",
        "System.out.println(fact(5));"
      ]
    }
  ],
  "metadata": {
    "kernelspec": {
      "display_name": "Java",
      "language": "java",
      "name": "java"
    },
    "language_info": {
      "name": "java",
      "version": "24"
    }
  },
  "nbformat": 4,
  "nbformat_minor": 2
}