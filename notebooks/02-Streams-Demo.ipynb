{
  "cells": [
    {
      "cell_type": "markdown",
      "metadata": {},
      "source": [
        "# Stream API Demo in Java\n"
      ]
    },
    {
      "cell_type": "code",
      "execution_count": null,
      "metadata": {},
      "outputs": [],
      "source": [
        "import java.util.*;\n",
        "List<String> names = List.of(\"Alice\", \"Bob\", \"Charlie\");\n",
        "names.stream().filter(n -> n.startsWith(\"A\")).forEach(System.out::println);"
      ]
    }
  ],
  "metadata": {
    "kernelspec": {
      "display_name": "Java",
      "language": "java",
      "name": "java"
    },
    "language_info": {
      "name": "java",
      "version": "24"
    }
  },
  "nbformat": 4,
  "nbformat_minor": 2
}