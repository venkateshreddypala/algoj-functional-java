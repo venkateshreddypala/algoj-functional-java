{
  "cells": [
    {
      "cell_type": "markdown",
      "metadata": {},
      "source": [
        "# Lambda Demo in JShell via Jupyter\n",
        "This notebook demonstrates basic lambdas."
      ]
    },
    {
      "cell_type": "code",
      "execution_count": null,
      "metadata": {},
      "outputs": [],
      "source": [
        "Runnable r = () -> System.out.println(\"Hello from Lambda\");\n",
        "r.run();"
      ]
    }
  ],
  "metadata": {
    "kernelspec": {
      "display_name": "Java",
      "language": "java",
      "name": "java"
    },
    "language_info": {
      "name": "java",
      "version": "24"
    }
  },
  "nbformat": 4,
  "nbformat_minor": 2
}